{
 "cells": [
  {
   "cell_type": "markdown",
   "metadata": {},
   "source": [
    "# Setup of Python Environment for GWAS-Lectures\n",
    "\n",
    "We will be using [limix](https://github.com/limix/limix) for the GWAS-lectures.   \n",
    "Limix is a flexible and efficient linear mixed-model library with interfaces to Python.  \n",
    "\n",
    "Assuming that Python is installed on the system the following sections describe how to install limix and all it's dependencies. \n",
    "\n",
    "## Install conda\n",
    "\n",
    "We will be using the open source package manager [conda](https://conda.io/docs/) to intall limix and jupyter notebook in a conda environment. Conda allows users to manage multiple environments with different package versions and can not only install python libraries but also various non-python software packages.  \n",
    "\n",
    "There are two ways to install conda:\n",
    " * [Anaconda](https://www.anaconda.com/) (kitchensink containing optimized scientific R and python libraries)\n",
    " * [Miniconda](https://conda.io/miniconda.html) (minimal installer for conda)\n",
    " \n",
    "We will use miniconda to install conda on our laptops. Navigate to https://conda.io/miniconda.html and download the version for your Operating System.\n",
    "\n",
    "### Install conda on MacOS\n",
    "\n",
    "```bash\n",
    "curl https://repo.anaconda.com/miniconda/Miniconda2-latest-MacOSX-x86_64.sh --output Miniconda2-latest-MacOSX-x86_64.sh\n",
    "bash Miniconda2-latest-MacOSX-x86_64.sh\n",
    "```\n",
    "\n",
    "### Install conda on Linux\n",
    "\n",
    "```bash\n",
    "curl https://repo.continuum.io/miniconda/Miniconda2-latest-Linux-x86_64.sh --output-file Miniconda2-latest-Linux-x86_64.sh\n",
    "bash Miniconda2-latest-Linux-x86_64.sh\n",
    "```\n",
    "\n",
    "### Install conda on Windows\n",
    "\n",
    "Download EXE installer and install it.\n",
    "\n",
    "\n",
    "## Create a conda environment and install limix, jupyter notebook\n",
    "\n",
    "```bash\n",
    "$ conda create -n gwas python=2.7 anaconda\n",
    "$ source activate gwas\n",
    "$ conda install -c conda-forge limix\n",
    "$ conda install jupyter\n",
    "```\n",
    "\n",
    "## Start jupyter notebook\n",
    "\n",
    "```\n",
    "$ jupyter notebook\n",
    "```\n",
    "Open link that is displayed in terminal in browser \n"
   ]
  }
 ],
 "metadata": {
  "kernelspec": {
   "display_name": "Python 2",
   "language": "python",
   "name": "python2"
  },
  "language_info": {
   "codemirror_mode": {
    "name": "ipython",
    "version": 2
   },
   "file_extension": ".py",
   "mimetype": "text/x-python",
   "name": "python",
   "nbconvert_exporter": "python",
   "pygments_lexer": "ipython2",
   "version": "2.7.15"
  }
 },
 "nbformat": 4,
 "nbformat_minor": 2
}
